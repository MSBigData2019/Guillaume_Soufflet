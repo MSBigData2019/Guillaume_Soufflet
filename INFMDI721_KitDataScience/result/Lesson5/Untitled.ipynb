{
 "cells": [
  {
   "cell_type": "markdown",
   "metadata": {},
   "source": [
    "### MDI : Lesson 5"
   ]
  },
  {
   "cell_type": "markdown",
   "metadata": {},
   "source": [
    "Peut-on établir un lien entre la densité de médecins par spécialité  et par territoire et la pratique du dépassement d'honoraires ? Est-ce  dans les territoires où la densité est la plus forte que les médecins  pratiquent le moins les dépassement d'honoraires ? Est ce que la densité de certains médecins / praticiens est corrélé à la densité de population pour certaines classes d'ages (bebe/pediatre, personnes agées / infirmiers etc...) ?\n",
    "\n",
    "C'est un sujet assez ouvert pris du Hackathon \"données de santé\" de Etalab. Il y a un github qui contient une partie des données dont vous aurez besoin. Vous pouvez compléter ça avec de l'INSEE et des données sur la démographie des médecins\n"
   ]
  },
  {
   "cell_type": "code",
   "execution_count": 1,
   "metadata": {},
   "outputs": [],
   "source": [
    "# Import des librairies utiles\n",
    "%matplotlib notebook\n",
    "import math                               # import a package\n",
    "import numpy as np                        # import a package with specified name\n",
    "from sklearn import linear_model as lm    # import whole module\n",
    "import statsmodels.api as sm\n",
    "from sklearn.metrics import mean_squared_error\n",
    "from sklearn.model_selection import train_test_split\n",
    "from sklearn.linear_model import Ridge\n",
    "from sklearn.linear_model import Ridge\n",
    "from sklearn.linear_model import LassoCV\n",
    "\n",
    "\n",
    "from os import mkdir, rmdir, path         # import a function\n",
    "from inspect import getsourcelines        # get function source code\n",
    "from scipy.stats import t                 # import student distribution\n",
    "\n",
    "from multiprocessing.dummy import Pool as ThreadPool # Multi thread processing\n",
    "import random\n",
    "import string\n",
    "import time\n",
    "import pandas as pd\n",
    "from pandas.plotting import scatter_matrix\n",
    "import urllib\n",
    "import zipfile\n",
    "import matplotlib.pyplot as plt     # for plots\n",
    "import seaborn as sns               # for plots\n",
    "import sys\n",
    "\n",
    "from IPython.display import Image   # insert image in notebook\n",
    "\n",
    "sns.set_palette(\"colorblind\")\n",
    "color_blind_list = sns.color_palette(\"colorblind\", 8)\n",
    "\n",
    "np.set_printoptions(formatter={'float': '{: 0.5g}'.format}) # Predefined format for printed ndarrays"
   ]
  },
  {
   "cell_type": "code",
   "execution_count": 88,
   "metadata": {
    "scrolled": true
   },
   "outputs": [
    {
     "data": {
      "text/html": [
       "<div>\n",
       "<style scoped>\n",
       "    .dataframe tbody tr th:only-of-type {\n",
       "        vertical-align: middle;\n",
       "    }\n",
       "\n",
       "    .dataframe tbody tr th {\n",
       "        vertical-align: top;\n",
       "    }\n",
       "\n",
       "    .dataframe thead th {\n",
       "        text-align: right;\n",
       "    }\n",
       "</style>\n",
       "<table border=\"1\" class=\"dataframe\">\n",
       "  <thead>\n",
       "    <tr style=\"text-align: right;\">\n",
       "      <th></th>\n",
       "      <th>groupe professionel</th>\n",
       "      <th>Spécialités</th>\n",
       "      <th>DEPARTEMENT</th>\n",
       "      <th>EFFECTIFS</th>\n",
       "      <th>HONORAIRES SANS DEPASSEMENT (Euros)</th>\n",
       "      <th>DEPASSEMENTS (Euros)</th>\n",
       "      <th>FRAIS DE DEPLACEMENT (Euros)</th>\n",
       "      <th>TOTAL DES HONORAIRES (Euros)</th>\n",
       "    </tr>\n",
       "  </thead>\n",
       "  <tbody>\n",
       "    <tr>\n",
       "      <th>0</th>\n",
       "      <td>Spécialistes</td>\n",
       "      <td>02- Anesthésie-réanimation chirurgicale</td>\n",
       "      <td>01- Ain</td>\n",
       "      <td>17</td>\n",
       "      <td>4530079.33</td>\n",
       "      <td>2496180.45</td>\n",
       "      <td>0.0</td>\n",
       "      <td>7026259.78</td>\n",
       "    </tr>\n",
       "    <tr>\n",
       "      <th>1</th>\n",
       "      <td>Spécialistes</td>\n",
       "      <td>02- Anesthésie-réanimation chirurgicale</td>\n",
       "      <td>02- Aisne</td>\n",
       "      <td>19</td>\n",
       "      <td>4985259.62</td>\n",
       "      <td>373837.57</td>\n",
       "      <td>0.0</td>\n",
       "      <td>5359097.19</td>\n",
       "    </tr>\n",
       "    <tr>\n",
       "      <th>2</th>\n",
       "      <td>Spécialistes</td>\n",
       "      <td>02- Anesthésie-réanimation chirurgicale</td>\n",
       "      <td>03- Allier</td>\n",
       "      <td>19</td>\n",
       "      <td>5102901.70</td>\n",
       "      <td>560978.59</td>\n",
       "      <td>0.0</td>\n",
       "      <td>5663880.29</td>\n",
       "    </tr>\n",
       "    <tr>\n",
       "      <th>3</th>\n",
       "      <td>Spécialistes</td>\n",
       "      <td>02- Anesthésie-réanimation chirurgicale</td>\n",
       "      <td>04- Alpes-Hte-Provence</td>\n",
       "      <td>4</td>\n",
       "      <td>NaN</td>\n",
       "      <td>NaN</td>\n",
       "      <td>NaN</td>\n",
       "      <td>NaN</td>\n",
       "    </tr>\n",
       "    <tr>\n",
       "      <th>4</th>\n",
       "      <td>Spécialistes</td>\n",
       "      <td>02- Anesthésie-réanimation chirurgicale</td>\n",
       "      <td>05- Hautes-Alpes</td>\n",
       "      <td>5</td>\n",
       "      <td>NaN</td>\n",
       "      <td>NaN</td>\n",
       "      <td>NaN</td>\n",
       "      <td>NaN</td>\n",
       "    </tr>\n",
       "  </tbody>\n",
       "</table>\n",
       "</div>"
      ],
      "text/plain": [
       "  groupe professionel                              Spécialités  \\\n",
       "0        Spécialistes  02- Anesthésie-réanimation chirurgicale   \n",
       "1        Spécialistes  02- Anesthésie-réanimation chirurgicale   \n",
       "2        Spécialistes  02- Anesthésie-réanimation chirurgicale   \n",
       "3        Spécialistes  02- Anesthésie-réanimation chirurgicale   \n",
       "4        Spécialistes  02- Anesthésie-réanimation chirurgicale   \n",
       "\n",
       "              DEPARTEMENT  EFFECTIFS  HONORAIRES SANS DEPASSEMENT (Euros)  \\\n",
       "0                 01- Ain         17                           4530079.33   \n",
       "1               02- Aisne         19                           4985259.62   \n",
       "2              03- Allier         19                           5102901.70   \n",
       "3  04- Alpes-Hte-Provence          4                                  NaN   \n",
       "4        05- Hautes-Alpes          5                                  NaN   \n",
       "\n",
       "   DEPASSEMENTS (Euros)  FRAIS DE DEPLACEMENT (Euros)  \\\n",
       "0            2496180.45                           0.0   \n",
       "1             373837.57                           0.0   \n",
       "2             560978.59                           0.0   \n",
       "3                   NaN                           NaN   \n",
       "4                   NaN                           NaN   \n",
       "\n",
       "   TOTAL DES HONORAIRES (Euros)  \n",
       "0                    7026259.78  \n",
       "1                    5359097.19  \n",
       "2                    5663880.29  \n",
       "3                           NaN  \n",
       "4                           NaN  "
      ]
     },
     "execution_count": 88,
     "metadata": {},
     "output_type": "execute_result"
    }
   ],
   "source": [
    "# Récupérons les données relative aux professions de santé\n",
    "# source : TO DO\n",
    "file_pro = \"Honoraires_totaux_des_professionnels_de_sante_par_departement_en_2016.xls\"\n",
    "sheets = [\"Spécialistes\",\"Généralistes et MEP\",\"Dentistes et ODF\",\"Sages-femmes\",\"Auxiliaires médicaux\"]\n",
    "dfs = []\n",
    "for sheet in sheets:\n",
    "    df = pd.read_excel(folder+file_pro, sheet_name = sheet, na_values=\"nc\") # Import des différentes sheet\n",
    "    df.insert(loc=0,column=\"groupe professionel\",value=sheet) # nouvelle colonne avec le nom de la sheet\n",
    "    df.rename(columns={df.columns[1] :\"Spécialités\"}, inplace=True) # harmonisation du nom des colonnes (pour fusion)\n",
    "    df.head()\n",
    "    dfs.append(df)\n",
    "df_pro = pd.concat(dfs, axis=0)\n",
    "\n",
    "reg_num = \"(\\d*)-.*\"\n",
    "reg_dep = \"\\d*- (.*)\"\n",
    "#df_pro[\"Num_Departement\"] = df_pro.DEPARTEMENT.str.extract(reg_num)\n",
    "#df_pro[\"DEPARTEMENT\"] = df_pro.DEPARTEMENT.str.extract(reg_dep)\n",
    "\n",
    "\n",
    "df_pro.head()\n",
    "# suprimer les lignes total (col B)\n",
    "# reset_index?\n",
    "# a voir si on rajoute une colonne pour France Metro / Outre Mer\n"
   ]
  },
  {
   "cell_type": "code",
   "execution_count": 94,
   "metadata": {},
   "outputs": [
    {
     "data": {
      "text/plain": [
       "[False, True, True, False, False, False, False, False]"
      ]
     },
     "execution_count": 94,
     "metadata": {},
     "output_type": "execute_result"
    }
   ],
   "source": [
    "# test pour connaitre quels sont les colonnes qui contienne la regex\n",
    "def which_col_contains(df, regex):\n",
    "    data = []\n",
    "    for i in range(df.shape[1]):\n",
    "        try:\n",
    "            val = df.iloc[:,i].str.contains(regex).any()\n",
    "        except:\n",
    "            val = False\n",
    "        data.append(val)\n",
    "    return data\n",
    "\n",
    "total_data = []\n",
    "for i in range(df_pro.shape[1]):\n",
    "    try:\n",
    "        val = df_pro.iloc[:,i].str.contains(\"(?i)TOTAL\").any()\n",
    "    except:\n",
    "        val = False\n",
    "    total_data.append(val)\n",
    "total_data"
   ]
  },
  {
   "cell_type": "code",
   "execution_count": 91,
   "metadata": {},
   "outputs": [],
   "source": [
    "total_data = [df_pro.iloc[:,i].str.contains(\"(?i)TOTAL\").any() for i in [0,1,2]]"
   ]
  },
  {
   "cell_type": "code",
   "execution_count": 92,
   "metadata": {},
   "outputs": [
    {
     "data": {
      "text/plain": [
       "[False, True, True]"
      ]
     },
     "execution_count": 92,
     "metadata": {},
     "output_type": "execute_result"
    }
   ],
   "source": [
    "total_data"
   ]
  },
  {
   "cell_type": "code",
   "execution_count": 81,
   "metadata": {},
   "outputs": [
    {
     "data": {
      "text/plain": [
       "5"
      ]
     },
     "execution_count": 81,
     "metadata": {},
     "output_type": "execute_result"
    }
   ],
   "source": [
    "len(dfs)"
   ]
  },
  {
   "cell_type": "code",
   "execution_count": 35,
   "metadata": {
    "scrolled": true
   },
   "outputs": [
    {
     "name": "stdout",
     "output_type": "stream",
     "text": [
      "There are 3844 lines with missing values\n"
     ]
    }
   ],
   "source": [
    "null_data = df_pro[df_pro.isnull().any(axis=1)]\n",
    "print(f'There are {null_data.shape[0]} lines with missing values')"
   ]
  },
  {
   "cell_type": "code",
   "execution_count": 69,
   "metadata": {},
   "outputs": [
    {
     "data": {
      "text/plain": [
       "groupe professionel                     object\n",
       "Spécialités                             object\n",
       "DEPARTEMENT                             object\n",
       "EFFECTIFS                                int64\n",
       "HONORAIRES SANS DEPASSEMENT (Euros)    float64\n",
       "DEPASSEMENTS (Euros)                   float64\n",
       "FRAIS DE DEPLACEMENT (Euros)           float64\n",
       "TOTAL DES HONORAIRES (Euros)           float64\n",
       "Num_Departement                         object\n",
       "dtype: object"
      ]
     },
     "execution_count": 69,
     "metadata": {},
     "output_type": "execute_result"
    }
   ],
   "source": [
    "df_pro.dtypes"
   ]
  },
  {
   "cell_type": "code",
   "execution_count": 84,
   "metadata": {
    "collapsed": true
   },
   "outputs": [
    {
     "data": {
      "text/plain": [
       "0                     Ain\n",
       "1                   Aisne\n",
       "2                  Allier\n",
       "3      Alpes-Hte-Provence\n",
       "4            Hautes-Alpes\n",
       "5         Alpes-Maritimes\n",
       "6                 Ardèche\n",
       "7                Ardennes\n",
       "8                  Ariège\n",
       "9                    Aube\n",
       "10                   Aude\n",
       "11                Aveyron\n",
       "12       Bouches-du-Rhône\n",
       "13               Calvados\n",
       "14                 Cantal\n",
       "15               Charente\n",
       "16      Charente-Maritime\n",
       "17                   Cher\n",
       "18                Corrèze\n",
       "19           Corse-du-Sud\n",
       "20            Haute-Corse\n",
       "21              Côte-d'Or\n",
       "22          Côtes-d'Armor\n",
       "23                 Creuse\n",
       "24               Dordogne\n",
       "25                  Doubs\n",
       "26                  Drôme\n",
       "27                   Eure\n",
       "28           Eure-et-Loir\n",
       "29              Finistère\n",
       "              ...        \n",
       "594          Haute-Savoie\n",
       "595         Paris (Ville)\n",
       "596        Seine-Maritime\n",
       "597        Seine-et-Marne\n",
       "598              Yvelines\n",
       "599           Deux-Sèvres\n",
       "600                 Somme\n",
       "601                  Tarn\n",
       "602       Tarn-et-Garonne\n",
       "603                   Var\n",
       "604              Vaucluse\n",
       "605                Vendée\n",
       "606                Vienne\n",
       "607          Haute-Vienne\n",
       "608                Vosges\n",
       "609                 Yonne\n",
       "610      Terr. de Belfort\n",
       "611               Essonne\n",
       "612        Hauts-de-Seine\n",
       "613        Seine-St-Denis\n",
       "614          Val-de-Marne\n",
       "615            Val-d'Oise\n",
       "616                   NaN\n",
       "617            Guadeloupe\n",
       "618            Martinique\n",
       "619                Guyane\n",
       "620               Réunion\n",
       "621               Mayotte\n",
       "622                   NaN\n",
       "623                   NaN\n",
       "Name: DEPARTEMENT, Length: 13728, dtype: object"
      ]
     },
     "execution_count": 84,
     "metadata": {},
     "output_type": "execute_result"
    }
   ],
   "source": [
    "df_pro.iloc[:,2]"
   ]
  },
  {
   "cell_type": "code",
   "execution_count": 80,
   "metadata": {},
   "outputs": [
    {
     "data": {
      "text/plain": [
       "False"
      ]
     },
     "execution_count": 80,
     "metadata": {},
     "output_type": "execute_result"
    }
   ],
   "source": [
    "df_pro.iloc[:,2].str.contains(\"TOTAL\").any()"
   ]
  },
  {
   "cell_type": "code",
   "execution_count": 78,
   "metadata": {
    "scrolled": true
   },
   "outputs": [
    {
     "data": {
      "text/plain": [
       "[False, True, False, False]"
      ]
     },
     "execution_count": 78,
     "metadata": {},
     "output_type": "execute_result"
    }
   ],
   "source": [
    "total_data = [df_pro.iloc[:,i].str.contains(\"(?i)TOTAL\").any() for i in [0,1,2,8]]\n",
    "total_data"
   ]
  },
  {
   "cell_type": "code",
   "execution_count": 37,
   "metadata": {},
   "outputs": [],
   "source": [
    "df_pro.where?"
   ]
  },
  {
   "cell_type": "code",
   "execution_count": 26,
   "metadata": {},
   "outputs": [],
   "source": [
    "pd.read_excel?"
   ]
  },
  {
   "cell_type": "code",
   "execution_count": 11,
   "metadata": {},
   "outputs": [
    {
     "data": {
      "text/html": [
       "<div>\n",
       "<style scoped>\n",
       "    .dataframe tbody tr th:only-of-type {\n",
       "        vertical-align: middle;\n",
       "    }\n",
       "\n",
       "    .dataframe tbody tr th {\n",
       "        vertical-align: top;\n",
       "    }\n",
       "\n",
       "    .dataframe thead tr th {\n",
       "        text-align: left;\n",
       "    }\n",
       "</style>\n",
       "<table border=\"1\" class=\"dataframe\">\n",
       "  <thead>\n",
       "    <tr>\n",
       "      <th>Départements</th>\n",
       "      <th>Départements</th>\n",
       "      <th colspan=\"9\" halign=\"left\">Ensemble</th>\n",
       "      <th>...</th>\n",
       "      <th colspan=\"10\" halign=\"left\">Femmes</th>\n",
       "    </tr>\n",
       "    <tr>\n",
       "      <th></th>\n",
       "      <th>Unnamed: 0_level_1</th>\n",
       "      <th>0 à 4 ans</th>\n",
       "      <th>5 à 9 ans</th>\n",
       "      <th>10 à 14 ans</th>\n",
       "      <th>15 à 19 ans</th>\n",
       "      <th>20 à 24 ans</th>\n",
       "      <th>25 à 29 ans</th>\n",
       "      <th>30 à 34 ans</th>\n",
       "      <th>35 à 39 ans</th>\n",
       "      <th>40 à 44 ans</th>\n",
       "      <th>...</th>\n",
       "      <th>55 à 59 ans</th>\n",
       "      <th>60 à 64 ans</th>\n",
       "      <th>65 à 69 ans</th>\n",
       "      <th>70 à 74 ans</th>\n",
       "      <th>75 à 79 ans</th>\n",
       "      <th>80 à 84 ans</th>\n",
       "      <th>85 à 89 ans</th>\n",
       "      <th>90 à 94 ans</th>\n",
       "      <th>95 ans et plus</th>\n",
       "      <th>Total</th>\n",
       "    </tr>\n",
       "  </thead>\n",
       "  <tbody>\n",
       "    <tr>\n",
       "      <th>01</th>\n",
       "      <td>Ain</td>\n",
       "      <td>40444.0</td>\n",
       "      <td>43971.0</td>\n",
       "      <td>43824.0</td>\n",
       "      <td>37879.0</td>\n",
       "      <td>29861.0</td>\n",
       "      <td>35455.0</td>\n",
       "      <td>40786.0</td>\n",
       "      <td>40750.0</td>\n",
       "      <td>47269.0</td>\n",
       "      <td>...</td>\n",
       "      <td>20223.0</td>\n",
       "      <td>18639.0</td>\n",
       "      <td>16925.0</td>\n",
       "      <td>11306.0</td>\n",
       "      <td>10000.0</td>\n",
       "      <td>9033.0</td>\n",
       "      <td>6710.0</td>\n",
       "      <td>3568.0</td>\n",
       "      <td>732.0</td>\n",
       "      <td>319895.0</td>\n",
       "    </tr>\n",
       "    <tr>\n",
       "      <th>02</th>\n",
       "      <td>Aisne</td>\n",
       "      <td>33467.0</td>\n",
       "      <td>35246.0</td>\n",
       "      <td>36243.0</td>\n",
       "      <td>32541.0</td>\n",
       "      <td>26762.0</td>\n",
       "      <td>30359.0</td>\n",
       "      <td>32013.0</td>\n",
       "      <td>30619.0</td>\n",
       "      <td>35981.0</td>\n",
       "      <td>...</td>\n",
       "      <td>18538.0</td>\n",
       "      <td>18496.0</td>\n",
       "      <td>16504.0</td>\n",
       "      <td>9882.0</td>\n",
       "      <td>10426.0</td>\n",
       "      <td>9942.0</td>\n",
       "      <td>6906.0</td>\n",
       "      <td>3337.0</td>\n",
       "      <td>498.0</td>\n",
       "      <td>276663.0</td>\n",
       "    </tr>\n",
       "    <tr>\n",
       "      <th>03</th>\n",
       "      <td>Allier</td>\n",
       "      <td>16253.0</td>\n",
       "      <td>18081.0</td>\n",
       "      <td>19312.0</td>\n",
       "      <td>17686.0</td>\n",
       "      <td>15326.0</td>\n",
       "      <td>15433.0</td>\n",
       "      <td>17264.0</td>\n",
       "      <td>17388.0</td>\n",
       "      <td>22125.0</td>\n",
       "      <td>...</td>\n",
       "      <td>12517.0</td>\n",
       "      <td>13522.0</td>\n",
       "      <td>12657.0</td>\n",
       "      <td>8788.0</td>\n",
       "      <td>8985.0</td>\n",
       "      <td>8887.0</td>\n",
       "      <td>6380.0</td>\n",
       "      <td>3322.0</td>\n",
       "      <td>645.0</td>\n",
       "      <td>177858.0</td>\n",
       "    </tr>\n",
       "    <tr>\n",
       "      <th>04</th>\n",
       "      <td>Alpes-de-Haute-Provence</td>\n",
       "      <td>7910.0</td>\n",
       "      <td>8868.0</td>\n",
       "      <td>9646.0</td>\n",
       "      <td>8576.0</td>\n",
       "      <td>6542.0</td>\n",
       "      <td>7182.0</td>\n",
       "      <td>8242.0</td>\n",
       "      <td>8373.0</td>\n",
       "      <td>10311.0</td>\n",
       "      <td>...</td>\n",
       "      <td>5994.0</td>\n",
       "      <td>5867.0</td>\n",
       "      <td>6125.0</td>\n",
       "      <td>4416.0</td>\n",
       "      <td>3926.0</td>\n",
       "      <td>3377.0</td>\n",
       "      <td>2558.0</td>\n",
       "      <td>1435.0</td>\n",
       "      <td>308.0</td>\n",
       "      <td>83087.0</td>\n",
       "    </tr>\n",
       "    <tr>\n",
       "      <th>05</th>\n",
       "      <td>Hautes-Alpes</td>\n",
       "      <td>7256.0</td>\n",
       "      <td>8137.0</td>\n",
       "      <td>8660.0</td>\n",
       "      <td>7511.0</td>\n",
       "      <td>5905.0</td>\n",
       "      <td>6801.0</td>\n",
       "      <td>7841.0</td>\n",
       "      <td>8093.0</td>\n",
       "      <td>9582.0</td>\n",
       "      <td>...</td>\n",
       "      <td>4960.0</td>\n",
       "      <td>5083.0</td>\n",
       "      <td>4673.0</td>\n",
       "      <td>3277.0</td>\n",
       "      <td>3039.0</td>\n",
       "      <td>2728.0</td>\n",
       "      <td>2000.0</td>\n",
       "      <td>1256.0</td>\n",
       "      <td>294.0</td>\n",
       "      <td>72052.0</td>\n",
       "    </tr>\n",
       "  </tbody>\n",
       "</table>\n",
       "<p>5 rows × 64 columns</p>\n",
       "</div>"
      ],
      "text/plain": [
       "Départements             Départements  Ensemble                        \\\n",
       "                   Unnamed: 0_level_1 0 à 4 ans 5 à 9 ans 10 à 14 ans   \n",
       "01                                Ain   40444.0   43971.0     43824.0   \n",
       "02                              Aisne   33467.0   35246.0     36243.0   \n",
       "03                             Allier   16253.0   18081.0     19312.0   \n",
       "04            Alpes-de-Haute-Provence    7910.0    8868.0      9646.0   \n",
       "05                       Hautes-Alpes    7256.0    8137.0      8660.0   \n",
       "\n",
       "Départements                                                              \\\n",
       "             15 à 19 ans 20 à 24 ans 25 à 29 ans 30 à 34 ans 35 à 39 ans   \n",
       "01               37879.0     29861.0     35455.0     40786.0     40750.0   \n",
       "02               32541.0     26762.0     30359.0     32013.0     30619.0   \n",
       "03               17686.0     15326.0     15433.0     17264.0     17388.0   \n",
       "04                8576.0      6542.0      7182.0      8242.0      8373.0   \n",
       "05                7511.0      5905.0      6801.0      7841.0      8093.0   \n",
       "\n",
       "Départements                ...         Femmes                          \\\n",
       "             40 à 44 ans    ...    55 à 59 ans 60 à 64 ans 65 à 69 ans   \n",
       "01               47269.0    ...        20223.0     18639.0     16925.0   \n",
       "02               35981.0    ...        18538.0     18496.0     16504.0   \n",
       "03               22125.0    ...        12517.0     13522.0     12657.0   \n",
       "04               10311.0    ...         5994.0      5867.0      6125.0   \n",
       "05                9582.0    ...         4960.0      5083.0      4673.0   \n",
       "\n",
       "Départements                                                              \\\n",
       "             70 à 74 ans 75 à 79 ans 80 à 84 ans 85 à 89 ans 90 à 94 ans   \n",
       "01               11306.0     10000.0      9033.0      6710.0      3568.0   \n",
       "02                9882.0     10426.0      9942.0      6906.0      3337.0   \n",
       "03                8788.0      8985.0      8887.0      6380.0      3322.0   \n",
       "04                4416.0      3926.0      3377.0      2558.0      1435.0   \n",
       "05                3277.0      3039.0      2728.0      2000.0      1256.0   \n",
       "\n",
       "Départements                           \n",
       "             95 ans et plus     Total  \n",
       "01                    732.0  319895.0  \n",
       "02                    498.0  276663.0  \n",
       "03                    645.0  177858.0  \n",
       "04                    308.0   83087.0  \n",
       "05                    294.0   72052.0  \n",
       "\n",
       "[5 rows x 64 columns]"
      ]
     },
     "execution_count": 11,
     "metadata": {},
     "output_type": "execute_result"
    }
   ],
   "source": [
    "# récupération des données relatives à la population\n",
    "# Prendre 2016 pour être cohérent avec les données des médecins\n",
    "# Introduire une colonne tranche d'age, homme femme,  (passage colonne -> ligne)\n",
    "# retirer les colonnes total\n",
    "folder = \"/Users/macbook/Documents/MS_Telecom_BigData/01_enseignement/INFMDI721_KitDataScience/result/Lesson5/\"\n",
    "file_pop = \"estim-pop-dep-sexe-aq-1975-2018.xls\"\n",
    "df_pop = pd.read_excel(folder+file_pop, sheet_name=4,header=[3,4])\n",
    "df_pop.head()"
   ]
  },
  {
   "cell_type": "code",
   "execution_count": 12,
   "metadata": {},
   "outputs": [
    {
     "data": {
      "text/plain": [
       "(106, 64)"
      ]
     },
     "execution_count": 12,
     "metadata": {},
     "output_type": "execute_result"
    }
   ],
   "source": [
    "df_pop.shape"
   ]
  },
  {
   "cell_type": "code",
   "execution_count": null,
   "metadata": {},
   "outputs": [],
   "source": []
  }
 ],
 "metadata": {
  "kernelspec": {
   "display_name": "Python 3",
   "language": "python",
   "name": "python3"
  },
  "language_info": {
   "codemirror_mode": {
    "name": "ipython",
    "version": 3
   },
   "file_extension": ".py",
   "mimetype": "text/x-python",
   "name": "python",
   "nbconvert_exporter": "python",
   "pygments_lexer": "ipython3",
   "version": "3.6.5"
  }
 },
 "nbformat": 4,
 "nbformat_minor": 2
}
